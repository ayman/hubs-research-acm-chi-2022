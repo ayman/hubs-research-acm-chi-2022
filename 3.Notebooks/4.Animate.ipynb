{
 "cells": [
  {
   "cell_type": "markdown",
   "metadata": {},
   "source": [
    "# Animate\n"
   ]
  },
  {
   "cell_type": "markdown",
   "metadata": {},
   "source": [
    "## Using this Notebook, Code, or Data\n",
    "This notebook and all of the resources included here are released on a \n",
    "[Mozilla Public License 2.0](https://www.mozilla.org/en-US/MPL/2.0/).  The data \n",
    "is released under [CC-BY-NC-SA 4.0](https://creativecommons.org/licenses/by-nc-sa/4.0/).\n",
    "To cite the paper, the bespoke logging client, the dataset, or this notebook \n",
    "please see the [README.md](https://github.com/ayman/hubs-research-2021/blob/main/README.md) \n",
    "or the [DOI in the ACM Digital Library](https://doi.org/10.1145/3411764.3445729)."
   ]
  },
  {
   "cell_type": "markdown",
   "metadata": {},
   "source": [
    "## Requirements"
   ]
  },
  {
   "cell_type": "code",
   "execution_count": 11,
   "metadata": {},
   "outputs": [],
   "source": [
    "from matplotlib import animation\n",
    "from matplotlib import pyplot as plt\n",
    "from matplotlib import rc\n",
    "from matplotlib.patches import Circle\n",
    "from IPython.display import HTML, Image\n",
    "from PIL import Image\n",
    "# import cv2\n",
    "import glob\n",
    "import matplotlib.lines as mlines\n",
    "import numpy as np\n",
    "import os\n",
    "import pandas as pd\n",
    "import time\n",
    "\n",
    "\n",
    "%matplotlib inline\n",
    "%matplotlib notebook"
   ]
  },
  {
   "cell_type": "code",
   "execution_count": 12,
   "metadata": {},
   "outputs": [],
   "source": [
    "# equivalent to rcParams['animation.html'] = 'html5'\n",
    "rc('animation', html='html5')"
   ]
  },
  {
   "cell_type": "code",
   "execution_count": 13,
   "metadata": {},
   "outputs": [],
   "source": [
    "room_data = pd.read_csv('outputs/group1_resampled_30.csv')\n",
    "room_data = room_data.sort_values('timestamp')\n",
    "\n",
    "room_data = room_data.assign(id=(room_data.uuid).astype('category').cat.codes)\n",
    "max_id = room_data.id.max()\n",
    "room_data['direction_x_coord'] = room_data.position_x+room_data.direction_x\n",
    "room_data['direction_z_coord'] = room_data.position_z+room_data.direction_z"
   ]
  },
  {
   "cell_type": "code",
   "execution_count": 16,
   "metadata": {},
   "outputs": [],
   "source": [
    "if not os.path.exists('outputs/animation_group1/'):\n",
    "    os.makedirs('outputs/animation_group1/')"
   ]
  },
  {
   "cell_type": "markdown",
   "metadata": {},
   "source": [
    "So this is a bit messy...ideally we should use `animation.FuncAnimation` to animate and save it, but instead we're going to just write each frame by frame as a PNG and then stack a GIF later."
   ]
  },
  {
   "cell_type": "code",
   "execution_count": 19,
   "metadata": {
    "scrolled": true
   },
   "outputs": [],
   "source": [
    "fig, ax = plt.subplots()\n",
    "plt.xlim((60, -10))\n",
    "plt.ylim((20, -20))\n",
    "\n",
    "plt.ioff()\n",
    "\n",
    "def init():\n",
    "    plt.cla()\n",
    "    ax = plt.gca()\n",
    "    ax.invert_yaxis()\n",
    "    ax.axes.xaxis.set_visible(False)\n",
    "    ax.axes.yaxis.set_visible(False)\n",
    "    plt.xlim((60, -10))\n",
    "    plt.ylim((20, -20))\n",
    "    background = plt.imread('assets/Outdoor Meetup Lit with Grid Light.png')    \n",
    "    # For Lake Office\n",
    "    # plt.imshow(background, extent=[-10, 10, 10, -15])\n",
    "    # For Outdoor Meetup\n",
    "    plt.imshow(background, extent=[60, -10, 20, -20])\n",
    "    return ax,\n",
    "\n",
    "def draw_circles(ax, size, xs, ys, alpha, linewidth):\n",
    "    pos = np.vstack((xs, ys)).T\n",
    "    for xy in pos:\n",
    "        c = Circle(xy, size, color='white', alpha=alpha,\n",
    "                   linewidth=linewidth, clip_on=True)\n",
    "        ax.add_patch(c)\n",
    "\n",
    "def animate(i, forpng=False, showCircles=False):\n",
    "    # Y axis inverted for both outdoor meetup and lake office\n",
    "    plt.gca().invert_yaxis()\n",
    "    ax = plt.gca()\n",
    "    ax.axes.xaxis.set_visible(False)\n",
    "    ax.axes.yaxis.set_visible(False)\n",
    "    plt.xlim((60, -10))\n",
    "    plt.ylim((20, -20))\n",
    "    # Add Background\n",
    "    # background = plt.imread('assets/Outdoor Meetup Wireframe without Grid.png')\n",
    "    background = plt.imread('assets/Outdoor Meetup Lit with Grid Light.png')\n",
    "    # For Lake Office\n",
    "    # plt.imshow(background, extent=[-10, 10, 10, -15])\n",
    "    # For Outdoor Meetup\n",
    "    plt.imshow(background, extent=[60, -10, 20, -20])\n",
    "\n",
    "    ax = plt.gca()\n",
    "\n",
    "    this_frame = frames[i].sort_values('frame_id')\n",
    "\n",
    "    # For Outdoor Meetup\n",
    "    if forpng:\n",
    "     scat = ax.scatter(this_frame.position_z, \n",
    "                       this_frame.position_x,\n",
    "                       c=this_frame.id, \n",
    "                       cmap='rainbow', \n",
    "                       s=[20 + (100*a) for a in this_frame.volume], \n",
    "                       zorder=10)\n",
    "    else:\n",
    "        ax.set_offsets(this_frame.position_z, \n",
    "                       this_frame.position_x)\n",
    "        \n",
    "    # If we want circles to show proximity zones\n",
    "    if showCircles:\n",
    "        draw_circles(ax, 1.2, this_frame.position_z,\n",
    "                     this_frame.position_x, alpha=.1, linewidth=0)\n",
    "        draw_circles(ax, 3.6, this_frame.position_z,\n",
    "                     this_frame.position_x, alpha=.1, linewidth=0)\n",
    "        draw_circles(ax, 7.6, this_frame.position_z,\n",
    "                     this_frame.position_x, alpha=.05, linewidth=0)\n",
    "\n",
    "    # For Lake Office\n",
    "    # ax.scatter(this_frame.position_x, this_frame.position_z, \n",
    "    #            c=this_frame.id, cmap='rainbow', zorder=10)\n",
    "\n",
    "    # For Outdoor Meetup\n",
    "    ys = np.stack([this_frame.position_x, \n",
    "                   this_frame.direction_x_coord, \n",
    "                   np.full(this_frame.position_x.shape, \n",
    "                           np.nan)])\n",
    "    xs = np.stack([this_frame.position_z, \n",
    "                   this_frame.direction_z_coord, \n",
    "                   np.full(this_frame.position_z.shape, \n",
    "                           np.nan)])\n",
    "\n",
    "    d = 1.2  # length of line\n",
    "    alpha = np.radians(40)  # Field of view (to one side)\n",
    "\n",
    "    cs = np.cos(alpha+np.pi)\n",
    "    ss = np.sin(alpha+np.pi)\n",
    "\n",
    "    ncs = np.cos(-alpha+np.pi)\n",
    "    nss = np.sin(-alpha+np.pi)\n",
    "\n",
    "    rv_x = this_frame.direction_z * cs - this_frame.direction_x * ss\n",
    "    rv_y = this_frame.direction_z * ss + this_frame.direction_x * cs\n",
    "    nrv_x = this_frame.direction_z * ncs - this_frame.direction_x * nss\n",
    "    nrv_y = this_frame.direction_z * nss + this_frame.direction_x * ncs\n",
    "\n",
    "    nv_left_x = this_frame.position_z + d * rv_x\n",
    "    nv_left_y = this_frame.position_x + d * rv_y\n",
    "    nv_right_x = this_frame.position_z + d * nrv_x\n",
    "    nv_right_y = this_frame.position_x + d * nrv_y\n",
    "\n",
    "    rys = np.stack([this_frame.position_x, nv_left_y,\n",
    "                    np.full(this_frame.position_x.shape, np.nan)])\n",
    "    rxs = np.stack([this_frame.position_z, nv_left_x,\n",
    "                    np.full(this_frame.position_z.shape, np.nan)])\n",
    "    nrys = np.stack([this_frame.position_x, nv_right_y,\n",
    "                     np.full(this_frame.position_x.shape, np.nan)])\n",
    "    nrxs = np.stack([this_frame.position_z, nv_right_x,\n",
    "                     np.full(this_frame.position_z.shape, np.nan)])\n",
    "\n",
    "    # # For Lake Office\n",
    "    # xs = np.stack([this_frame.position_x, this_frame.direction_x_coord, np.full(this_frame.position_x.shape, np.nan)])\n",
    "    # ys = np.stack([this_frame.position_z, this_frame.direction_z_coord, np.full(this_frame.position_z.shape, np.nan)])\n",
    "\n",
    "#     for index, row in this_frame.iterrows():\n",
    "#         ax.text(row.position_z, row.position_x, row.display_name[:5])\n",
    "\n",
    "#     Create View Angle Lines\n",
    "    # ax.plot(xs.T.ravel(), ys.T.ravel(), c='black', linewidth=1)\n",
    "    if forpng:\n",
    "        ax.plot(rxs.T.ravel(), rys.T.ravel(), c='black', linewidth=1, alpha=.4)\n",
    "        ax.plot(nrxs.T.ravel(), nrys.T.ravel(), c='black', linewidth=1, alpha=.4)\n",
    "\n",
    "        ax.set_title(this_frame['frame_id'].iloc[0][:19], loc='left')\n",
    "        ax.axis(\"off\")\n",
    "        return ax\n",
    "    else:\n",
    "        ax.set_data(rxs.T.ravel(), rys.T.ravel())\n",
    "        ax.set_data(nrxs.T.ravel(), nrys.T.ravel())\n",
    "        return ax,"
   ]
  },
  {
   "cell_type": "markdown",
   "metadata": {},
   "source": [
    "You can plot any frame like:\n",
    "```\n",
    "init()\n",
    "animate(100, True)\n",
    "``` \n",
    "so we'll just loop and make all the PNGs we need for our flipbook animation."
   ]
  },
  {
   "cell_type": "code",
   "execution_count": 20,
   "metadata": {},
   "outputs": [
    {
     "name": "stdout",
     "output_type": "stream",
     "text": [
      "Frame      0/115648 @ 3.52816 FPS\n",
      "Frame     20/115648 @ 5.11783 FPS\n",
      "Frame     40/115648 @ 5.60195 FPS\n",
      "Frame     60/115648 @ 5.51026 FPS\n",
      "Frame     80/115648 @ 5.26304 FPS\n",
      "Frame    100/115648 @ 4.46486 FPS\n",
      "Frame    120/115648 @ 5.37258 FPS\n",
      "Frame    140/115648 @ 4.94090 FPS\n",
      "Frame    160/115648 @ 2.39391 FPS\n",
      "Frame    180/115648 @ 4.84515 FPS\n",
      "Frame    200/115648 @ 4.90759 FPS\n",
      "Frame    220/115648 @ 5.23291 FPS\n",
      "Frame    240/115648 @ 5.19289 FPS\n",
      "Frame    260/115648 @ 4.22335 FPS\n",
      "Frame    280/115648 @ 4.65467 FPS\n",
      "Frame    300/115648 @ 5.08564 FPS\n",
      "Frame    320/115648 @ 5.42880 FPS\n",
      "Frame    340/115648 @ 4.19138 FPS\n",
      "Frame    360/115648 @ 5.44568 FPS\n",
      "Frame    380/115648 @ 5.03386 FPS\n",
      "Frame    400/115648 @ 4.58791 FPS\n",
      "Frame    420/115648 @ 3.98788 FPS\n",
      "Frame    440/115648 @ 4.26728 FPS\n",
      "Frame    460/115648 @ 3.67607 FPS\n",
      "Frame    480/115648 @ 5.47426 FPS\n",
      "Frame    500/115648 @ 5.30572 FPS\n",
      "Frame    520/115648 @ 5.64611 FPS\n"
     ]
    },
    {
     "ename": "KeyboardInterrupt",
     "evalue": "",
     "output_type": "error",
     "traceback": [
      "\u001b[0;31m---------------------------------------------------------------------------\u001b[0m",
      "\u001b[0;31mAttributeError\u001b[0m                            Traceback (most recent call last)",
      "\u001b[0;32m~/opt/anaconda3/lib/python3.8/site-packages/PIL/ImageFile.py\u001b[0m in \u001b[0;36m_save\u001b[0;34m(im, fp, tile, bufsize)\u001b[0m\n\u001b[1;32m    509\u001b[0m     \u001b[0;32mtry\u001b[0m\u001b[0;34m:\u001b[0m\u001b[0;34m\u001b[0m\u001b[0;34m\u001b[0m\u001b[0m\n\u001b[0;32m--> 510\u001b[0;31m         \u001b[0mfh\u001b[0m \u001b[0;34m=\u001b[0m \u001b[0mfp\u001b[0m\u001b[0;34m.\u001b[0m\u001b[0mfileno\u001b[0m\u001b[0;34m(\u001b[0m\u001b[0;34m)\u001b[0m\u001b[0;34m\u001b[0m\u001b[0;34m\u001b[0m\u001b[0m\n\u001b[0m\u001b[1;32m    511\u001b[0m         \u001b[0mfp\u001b[0m\u001b[0;34m.\u001b[0m\u001b[0mflush\u001b[0m\u001b[0;34m(\u001b[0m\u001b[0;34m)\u001b[0m\u001b[0;34m\u001b[0m\u001b[0;34m\u001b[0m\u001b[0m\n",
      "\u001b[0;31mAttributeError\u001b[0m: '_idat' object has no attribute 'fileno'",
      "\nDuring handling of the above exception, another exception occurred:\n",
      "\u001b[0;31mKeyboardInterrupt\u001b[0m                         Traceback (most recent call last)",
      "\u001b[0;32m<ipython-input-20-f55719c241b4>\u001b[0m in \u001b[0;36m<module>\u001b[0;34m\u001b[0m\n\u001b[1;32m     14\u001b[0m     \u001b[0minit\u001b[0m\u001b[0;34m(\u001b[0m\u001b[0;34m)\u001b[0m\u001b[0;34m\u001b[0m\u001b[0;34m\u001b[0m\u001b[0m\n\u001b[1;32m     15\u001b[0m     \u001b[0manimate\u001b[0m\u001b[0;34m(\u001b[0m\u001b[0mi\u001b[0m\u001b[0;34m,\u001b[0m \u001b[0;32mTrue\u001b[0m\u001b[0;34m,\u001b[0m \u001b[0;32mTrue\u001b[0m\u001b[0;34m)\u001b[0m\u001b[0;34m\u001b[0m\u001b[0;34m\u001b[0m\u001b[0m\n\u001b[0;32m---> 16\u001b[0;31m     plt.savefig(filename.format(i), \n\u001b[0m\u001b[1;32m     17\u001b[0m                 dpi=150) \n\u001b[1;32m     18\u001b[0m     \u001b[0mplt\u001b[0m\u001b[0;34m.\u001b[0m\u001b[0mcla\u001b[0m\u001b[0;34m(\u001b[0m\u001b[0;34m)\u001b[0m\u001b[0;34m\u001b[0m\u001b[0;34m\u001b[0m\u001b[0m\n",
      "\u001b[0;32m~/opt/anaconda3/lib/python3.8/site-packages/matplotlib/pyplot.py\u001b[0m in \u001b[0;36msavefig\u001b[0;34m(*args, **kwargs)\u001b[0m\n\u001b[1;32m    857\u001b[0m \u001b[0;32mdef\u001b[0m \u001b[0msavefig\u001b[0m\u001b[0;34m(\u001b[0m\u001b[0;34m*\u001b[0m\u001b[0margs\u001b[0m\u001b[0;34m,\u001b[0m \u001b[0;34m**\u001b[0m\u001b[0mkwargs\u001b[0m\u001b[0;34m)\u001b[0m\u001b[0;34m:\u001b[0m\u001b[0;34m\u001b[0m\u001b[0;34m\u001b[0m\u001b[0m\n\u001b[1;32m    858\u001b[0m     \u001b[0mfig\u001b[0m \u001b[0;34m=\u001b[0m \u001b[0mgcf\u001b[0m\u001b[0;34m(\u001b[0m\u001b[0;34m)\u001b[0m\u001b[0;34m\u001b[0m\u001b[0;34m\u001b[0m\u001b[0m\n\u001b[0;32m--> 859\u001b[0;31m     \u001b[0mres\u001b[0m \u001b[0;34m=\u001b[0m \u001b[0mfig\u001b[0m\u001b[0;34m.\u001b[0m\u001b[0msavefig\u001b[0m\u001b[0;34m(\u001b[0m\u001b[0;34m*\u001b[0m\u001b[0margs\u001b[0m\u001b[0;34m,\u001b[0m \u001b[0;34m**\u001b[0m\u001b[0mkwargs\u001b[0m\u001b[0;34m)\u001b[0m\u001b[0;34m\u001b[0m\u001b[0;34m\u001b[0m\u001b[0m\n\u001b[0m\u001b[1;32m    860\u001b[0m     \u001b[0mfig\u001b[0m\u001b[0;34m.\u001b[0m\u001b[0mcanvas\u001b[0m\u001b[0;34m.\u001b[0m\u001b[0mdraw_idle\u001b[0m\u001b[0;34m(\u001b[0m\u001b[0;34m)\u001b[0m   \u001b[0;31m# need this if 'transparent=True' to reset colors\u001b[0m\u001b[0;34m\u001b[0m\u001b[0;34m\u001b[0m\u001b[0m\n\u001b[1;32m    861\u001b[0m     \u001b[0;32mreturn\u001b[0m \u001b[0mres\u001b[0m\u001b[0;34m\u001b[0m\u001b[0;34m\u001b[0m\u001b[0m\n",
      "\u001b[0;32m~/opt/anaconda3/lib/python3.8/site-packages/matplotlib/figure.py\u001b[0m in \u001b[0;36msavefig\u001b[0;34m(self, fname, transparent, **kwargs)\u001b[0m\n\u001b[1;32m   2309\u001b[0m                 \u001b[0mpatch\u001b[0m\u001b[0;34m.\u001b[0m\u001b[0mset_edgecolor\u001b[0m\u001b[0;34m(\u001b[0m\u001b[0;34m'none'\u001b[0m\u001b[0;34m)\u001b[0m\u001b[0;34m\u001b[0m\u001b[0;34m\u001b[0m\u001b[0m\n\u001b[1;32m   2310\u001b[0m \u001b[0;34m\u001b[0m\u001b[0m\n\u001b[0;32m-> 2311\u001b[0;31m         \u001b[0mself\u001b[0m\u001b[0;34m.\u001b[0m\u001b[0mcanvas\u001b[0m\u001b[0;34m.\u001b[0m\u001b[0mprint_figure\u001b[0m\u001b[0;34m(\u001b[0m\u001b[0mfname\u001b[0m\u001b[0;34m,\u001b[0m \u001b[0;34m**\u001b[0m\u001b[0mkwargs\u001b[0m\u001b[0;34m)\u001b[0m\u001b[0;34m\u001b[0m\u001b[0;34m\u001b[0m\u001b[0m\n\u001b[0m\u001b[1;32m   2312\u001b[0m \u001b[0;34m\u001b[0m\u001b[0m\n\u001b[1;32m   2313\u001b[0m         \u001b[0;32mif\u001b[0m \u001b[0mtransparent\u001b[0m\u001b[0;34m:\u001b[0m\u001b[0;34m\u001b[0m\u001b[0;34m\u001b[0m\u001b[0m\n",
      "\u001b[0;32m~/opt/anaconda3/lib/python3.8/site-packages/matplotlib/backend_bases.py\u001b[0m in \u001b[0;36mprint_figure\u001b[0;34m(self, filename, dpi, facecolor, edgecolor, orientation, format, bbox_inches, pad_inches, bbox_extra_artists, backend, **kwargs)\u001b[0m\n\u001b[1;32m   2208\u001b[0m \u001b[0;34m\u001b[0m\u001b[0m\n\u001b[1;32m   2209\u001b[0m             \u001b[0;32mtry\u001b[0m\u001b[0;34m:\u001b[0m\u001b[0;34m\u001b[0m\u001b[0;34m\u001b[0m\u001b[0m\n\u001b[0;32m-> 2210\u001b[0;31m                 result = print_method(\n\u001b[0m\u001b[1;32m   2211\u001b[0m                     \u001b[0mfilename\u001b[0m\u001b[0;34m,\u001b[0m\u001b[0;34m\u001b[0m\u001b[0;34m\u001b[0m\u001b[0m\n\u001b[1;32m   2212\u001b[0m                     \u001b[0mdpi\u001b[0m\u001b[0;34m=\u001b[0m\u001b[0mdpi\u001b[0m\u001b[0;34m,\u001b[0m\u001b[0;34m\u001b[0m\u001b[0;34m\u001b[0m\u001b[0m\n",
      "\u001b[0;32m~/opt/anaconda3/lib/python3.8/site-packages/matplotlib/backend_bases.py\u001b[0m in \u001b[0;36mwrapper\u001b[0;34m(*args, **kwargs)\u001b[0m\n\u001b[1;32m   1637\u001b[0m             \u001b[0mkwargs\u001b[0m\u001b[0;34m.\u001b[0m\u001b[0mpop\u001b[0m\u001b[0;34m(\u001b[0m\u001b[0marg\u001b[0m\u001b[0;34m)\u001b[0m\u001b[0;34m\u001b[0m\u001b[0;34m\u001b[0m\u001b[0m\n\u001b[1;32m   1638\u001b[0m \u001b[0;34m\u001b[0m\u001b[0m\n\u001b[0;32m-> 1639\u001b[0;31m         \u001b[0;32mreturn\u001b[0m \u001b[0mfunc\u001b[0m\u001b[0;34m(\u001b[0m\u001b[0;34m*\u001b[0m\u001b[0margs\u001b[0m\u001b[0;34m,\u001b[0m \u001b[0;34m**\u001b[0m\u001b[0mkwargs\u001b[0m\u001b[0;34m)\u001b[0m\u001b[0;34m\u001b[0m\u001b[0;34m\u001b[0m\u001b[0m\n\u001b[0m\u001b[1;32m   1640\u001b[0m \u001b[0;34m\u001b[0m\u001b[0m\n\u001b[1;32m   1641\u001b[0m     \u001b[0;32mreturn\u001b[0m \u001b[0mwrapper\u001b[0m\u001b[0;34m\u001b[0m\u001b[0;34m\u001b[0m\u001b[0m\n",
      "\u001b[0;32m~/opt/anaconda3/lib/python3.8/site-packages/matplotlib/backends/backend_agg.py\u001b[0m in \u001b[0;36mprint_png\u001b[0;34m(self, filename_or_obj, metadata, pil_kwargs, *args)\u001b[0m\n\u001b[1;32m    508\u001b[0m         \"\"\"\n\u001b[1;32m    509\u001b[0m         \u001b[0mFigureCanvasAgg\u001b[0m\u001b[0;34m.\u001b[0m\u001b[0mdraw\u001b[0m\u001b[0;34m(\u001b[0m\u001b[0mself\u001b[0m\u001b[0;34m)\u001b[0m\u001b[0;34m\u001b[0m\u001b[0;34m\u001b[0m\u001b[0m\n\u001b[0;32m--> 510\u001b[0;31m         mpl.image.imsave(\n\u001b[0m\u001b[1;32m    511\u001b[0m             \u001b[0mfilename_or_obj\u001b[0m\u001b[0;34m,\u001b[0m \u001b[0mself\u001b[0m\u001b[0;34m.\u001b[0m\u001b[0mbuffer_rgba\u001b[0m\u001b[0;34m(\u001b[0m\u001b[0;34m)\u001b[0m\u001b[0;34m,\u001b[0m \u001b[0mformat\u001b[0m\u001b[0;34m=\u001b[0m\u001b[0;34m\"png\"\u001b[0m\u001b[0;34m,\u001b[0m \u001b[0morigin\u001b[0m\u001b[0;34m=\u001b[0m\u001b[0;34m\"upper\"\u001b[0m\u001b[0;34m,\u001b[0m\u001b[0;34m\u001b[0m\u001b[0;34m\u001b[0m\u001b[0m\n\u001b[1;32m    512\u001b[0m             dpi=self.figure.dpi, metadata=metadata, pil_kwargs=pil_kwargs)\n",
      "\u001b[0;32m~/opt/anaconda3/lib/python3.8/site-packages/matplotlib/image.py\u001b[0m in \u001b[0;36mimsave\u001b[0;34m(fname, arr, vmin, vmax, cmap, format, origin, dpi, metadata, pil_kwargs)\u001b[0m\n\u001b[1;32m   1603\u001b[0m         \u001b[0mpil_kwargs\u001b[0m\u001b[0;34m.\u001b[0m\u001b[0msetdefault\u001b[0m\u001b[0;34m(\u001b[0m\u001b[0;34m\"format\"\u001b[0m\u001b[0;34m,\u001b[0m \u001b[0mformat\u001b[0m\u001b[0;34m)\u001b[0m\u001b[0;34m\u001b[0m\u001b[0;34m\u001b[0m\u001b[0m\n\u001b[1;32m   1604\u001b[0m         \u001b[0mpil_kwargs\u001b[0m\u001b[0;34m.\u001b[0m\u001b[0msetdefault\u001b[0m\u001b[0;34m(\u001b[0m\u001b[0;34m\"dpi\"\u001b[0m\u001b[0;34m,\u001b[0m \u001b[0;34m(\u001b[0m\u001b[0mdpi\u001b[0m\u001b[0;34m,\u001b[0m \u001b[0mdpi\u001b[0m\u001b[0;34m)\u001b[0m\u001b[0;34m)\u001b[0m\u001b[0;34m\u001b[0m\u001b[0;34m\u001b[0m\u001b[0m\n\u001b[0;32m-> 1605\u001b[0;31m         \u001b[0mimage\u001b[0m\u001b[0;34m.\u001b[0m\u001b[0msave\u001b[0m\u001b[0;34m(\u001b[0m\u001b[0mfname\u001b[0m\u001b[0;34m,\u001b[0m \u001b[0;34m**\u001b[0m\u001b[0mpil_kwargs\u001b[0m\u001b[0;34m)\u001b[0m\u001b[0;34m\u001b[0m\u001b[0;34m\u001b[0m\u001b[0m\n\u001b[0m\u001b[1;32m   1606\u001b[0m \u001b[0;34m\u001b[0m\u001b[0m\n\u001b[1;32m   1607\u001b[0m \u001b[0;34m\u001b[0m\u001b[0m\n",
      "\u001b[0;32m~/opt/anaconda3/lib/python3.8/site-packages/PIL/Image.py\u001b[0m in \u001b[0;36msave\u001b[0;34m(self, fp, format, **params)\u001b[0m\n\u001b[1;32m   2149\u001b[0m \u001b[0;34m\u001b[0m\u001b[0m\n\u001b[1;32m   2150\u001b[0m         \u001b[0;32mtry\u001b[0m\u001b[0;34m:\u001b[0m\u001b[0;34m\u001b[0m\u001b[0;34m\u001b[0m\u001b[0m\n\u001b[0;32m-> 2151\u001b[0;31m             \u001b[0msave_handler\u001b[0m\u001b[0;34m(\u001b[0m\u001b[0mself\u001b[0m\u001b[0;34m,\u001b[0m \u001b[0mfp\u001b[0m\u001b[0;34m,\u001b[0m \u001b[0mfilename\u001b[0m\u001b[0;34m)\u001b[0m\u001b[0;34m\u001b[0m\u001b[0;34m\u001b[0m\u001b[0m\n\u001b[0m\u001b[1;32m   2152\u001b[0m         \u001b[0;32mfinally\u001b[0m\u001b[0;34m:\u001b[0m\u001b[0;34m\u001b[0m\u001b[0;34m\u001b[0m\u001b[0m\n\u001b[1;32m   2153\u001b[0m             \u001b[0;31m# do what we can to clean up\u001b[0m\u001b[0;34m\u001b[0m\u001b[0;34m\u001b[0m\u001b[0;34m\u001b[0m\u001b[0m\n",
      "\u001b[0;32m~/opt/anaconda3/lib/python3.8/site-packages/PIL/PngImagePlugin.py\u001b[0m in \u001b[0;36m_save\u001b[0;34m(im, fp, filename, chunk, save_all)\u001b[0m\n\u001b[1;32m   1337\u001b[0m         \u001b[0m_write_multiple_frames\u001b[0m\u001b[0;34m(\u001b[0m\u001b[0mim\u001b[0m\u001b[0;34m,\u001b[0m \u001b[0mfp\u001b[0m\u001b[0;34m,\u001b[0m \u001b[0mchunk\u001b[0m\u001b[0;34m,\u001b[0m \u001b[0mrawmode\u001b[0m\u001b[0;34m)\u001b[0m\u001b[0;34m\u001b[0m\u001b[0;34m\u001b[0m\u001b[0m\n\u001b[1;32m   1338\u001b[0m     \u001b[0;32melse\u001b[0m\u001b[0;34m:\u001b[0m\u001b[0;34m\u001b[0m\u001b[0;34m\u001b[0m\u001b[0m\n\u001b[0;32m-> 1339\u001b[0;31m         \u001b[0mImageFile\u001b[0m\u001b[0;34m.\u001b[0m\u001b[0m_save\u001b[0m\u001b[0;34m(\u001b[0m\u001b[0mim\u001b[0m\u001b[0;34m,\u001b[0m \u001b[0m_idat\u001b[0m\u001b[0;34m(\u001b[0m\u001b[0mfp\u001b[0m\u001b[0;34m,\u001b[0m \u001b[0mchunk\u001b[0m\u001b[0;34m)\u001b[0m\u001b[0;34m,\u001b[0m \u001b[0;34m[\u001b[0m\u001b[0;34m(\u001b[0m\u001b[0;34m\"zip\"\u001b[0m\u001b[0;34m,\u001b[0m \u001b[0;34m(\u001b[0m\u001b[0;36m0\u001b[0m\u001b[0;34m,\u001b[0m \u001b[0;36m0\u001b[0m\u001b[0;34m)\u001b[0m \u001b[0;34m+\u001b[0m \u001b[0mim\u001b[0m\u001b[0;34m.\u001b[0m\u001b[0msize\u001b[0m\u001b[0;34m,\u001b[0m \u001b[0;36m0\u001b[0m\u001b[0;34m,\u001b[0m \u001b[0mrawmode\u001b[0m\u001b[0;34m)\u001b[0m\u001b[0;34m]\u001b[0m\u001b[0;34m)\u001b[0m\u001b[0;34m\u001b[0m\u001b[0;34m\u001b[0m\u001b[0m\n\u001b[0m\u001b[1;32m   1340\u001b[0m \u001b[0;34m\u001b[0m\u001b[0m\n\u001b[1;32m   1341\u001b[0m     \u001b[0;32mif\u001b[0m \u001b[0minfo\u001b[0m\u001b[0;34m:\u001b[0m\u001b[0;34m\u001b[0m\u001b[0;34m\u001b[0m\u001b[0m\n",
      "\u001b[0;32m~/opt/anaconda3/lib/python3.8/site-packages/PIL/ImageFile.py\u001b[0m in \u001b[0;36m_save\u001b[0;34m(im, fp, tile, bufsize)\u001b[0m\n\u001b[1;32m    522\u001b[0m             \u001b[0;32melse\u001b[0m\u001b[0;34m:\u001b[0m\u001b[0;34m\u001b[0m\u001b[0;34m\u001b[0m\u001b[0m\n\u001b[1;32m    523\u001b[0m                 \u001b[0;32mwhile\u001b[0m \u001b[0;32mTrue\u001b[0m\u001b[0;34m:\u001b[0m\u001b[0;34m\u001b[0m\u001b[0;34m\u001b[0m\u001b[0m\n\u001b[0;32m--> 524\u001b[0;31m                     \u001b[0ml\u001b[0m\u001b[0;34m,\u001b[0m \u001b[0ms\u001b[0m\u001b[0;34m,\u001b[0m \u001b[0md\u001b[0m \u001b[0;34m=\u001b[0m \u001b[0me\u001b[0m\u001b[0;34m.\u001b[0m\u001b[0mencode\u001b[0m\u001b[0;34m(\u001b[0m\u001b[0mbufsize\u001b[0m\u001b[0;34m)\u001b[0m\u001b[0;34m\u001b[0m\u001b[0;34m\u001b[0m\u001b[0m\n\u001b[0m\u001b[1;32m    525\u001b[0m                     \u001b[0mfp\u001b[0m\u001b[0;34m.\u001b[0m\u001b[0mwrite\u001b[0m\u001b[0;34m(\u001b[0m\u001b[0md\u001b[0m\u001b[0;34m)\u001b[0m\u001b[0;34m\u001b[0m\u001b[0;34m\u001b[0m\u001b[0m\n\u001b[1;32m    526\u001b[0m                     \u001b[0;32mif\u001b[0m \u001b[0ms\u001b[0m\u001b[0;34m:\u001b[0m\u001b[0;34m\u001b[0m\u001b[0;34m\u001b[0m\u001b[0m\n",
      "\u001b[0;31mKeyboardInterrupt\u001b[0m: "
     ]
    }
   ],
   "source": [
    "# Dynamically pad our zeros to the log and filenames.\n",
    "f_len = len(str(len(frames)))\n",
    "info_test = \"Frame {}/{} @ {} FPS\"\n",
    "info_test = info_test.format(\"{:>\" + str(f_len) + \"}\", \n",
    "                             \"{:<\" + str(f_len) + \"}\", \n",
    "                             \"{:<.5f}\")\n",
    "filename = \"outputs/animation_group4/main_room{}.png\"\n",
    "filename = filename.format(\"{0:0>\" + str(f_len) +\"}\")\n",
    "\n",
    "\n",
    "# Iterate over all the frames\n",
    "last_time = time.time() * 1000\n",
    "for i in range(0, len(frames)):\n",
    "    init()\n",
    "    animate(i, True, True)\n",
    "    plt.savefig(filename.format(i), \n",
    "                dpi=150) \n",
    "    plt.cla()\n",
    "    this_time = time.time() * 1000\n",
    "    t_delta = this_time - last_time\n",
    "    last_time = this_time\n",
    "    if (i % 20 == 0):\n",
    "        print(info_test.format(i, len(frames), (1000 / t_delta)))\n",
    "print(\"fin...\")"
   ]
  },
  {
   "cell_type": "code",
   "execution_count": 8,
   "metadata": {},
   "outputs": [],
   "source": [
    "def save_gif(filename, imgs, resize=None):\n",
    "    frames = []\n",
    "    for i in imgs:\n",
    "        new_frame = Image.open(i)\n",
    "        if resize is not None:\n",
    "            # new_frame = new_frame.resize(resize)\n",
    "            new_frame.thumbnail(resize, Image.LANCZOS)\n",
    "        frames.append(new_frame)\n",
    "\n",
    "    frames[0].save(filename,\n",
    "                   format='GIF',\n",
    "                   append_images=frames[1:],\n",
    "                   save_all=True,\n",
    "                   duration=60, \n",
    "                   loop=True,\n",
    "                   optimize=False)"
   ]
  },
  {
   "cell_type": "code",
   "execution_count": 9,
   "metadata": {},
   "outputs": [],
   "source": [
    "imgs = glob.glob(\"outputs/animation/*.png\")  \n",
    "imgs.sort()\n",
    "save_gif(\"outputs/main_animation.gif\", imgs)"
   ]
  },
  {
   "cell_type": "markdown",
   "metadata": {},
   "source": [
    "Let's save a smaller GIF with less frames."
   ]
  },
  {
   "cell_type": "code",
   "execution_count": 10,
   "metadata": {},
   "outputs": [],
   "source": [
    "import math \n",
    "start = math.floor(len(frames)/2)\n",
    "end = start + 50\n",
    "imgs_small = imgs[start:end]\n",
    "save_gif(\"outputs/main_animation_small.gif\", imgs_small)"
   ]
  },
  {
   "cell_type": "markdown",
   "metadata": {},
   "source": [
    "## Render frames as MP4\n",
    "You'll need OpenCV for this.\n",
    "\n",
    "ffmpeg -r 30 -f image2  -i animation_group1/main_room%05d.png -vcodec libx264 -crf 25  -pix_fmt yuv420p group1.mp4"
   ]
  },
  {
   "cell_type": "code",
   "execution_count": 11,
   "metadata": {},
   "outputs": [],
   "source": [
    "imgs = glob.glob(\"outputs/animation/*.png\")\n",
    "imgs.sort()\n",
    "\n",
    "img0 = cv2.imread(imgs[0])\n",
    "height , width , layers =  img0.shape\n",
    "\n",
    "video = cv2.VideoWriter('outputs/video.mp4', \n",
    "                        cv2.VideoWriter_fourcc(*'MP4V'),\n",
    "                        30,\n",
    "                        (width, height))\n",
    "for i in imgs:\n",
    "    image = cv2.imread(i)\n",
    "    video.write(image)\n",
    "\n",
    "cv2.destroyAllWindows()\n",
    "video.release()"
   ]
  },
  {
   "cell_type": "markdown",
   "metadata": {},
   "source": [
    "## Render frames as animations\n",
    "### ⚠️ Caution ⚠️ \n",
    "What we _want_ to do is write an animation as follows. This section isn't working... It is included here for a rough reminder on how to display the animation inline in the notebook.  However the `animate(i)` function needs to be updated to correctly render the frames."
   ]
  },
  {
   "cell_type": "code",
   "execution_count": 12,
   "metadata": {},
   "outputs": [],
   "source": [
    "# This is not working (yet!).\n",
    "anim = animation.FuncAnimation(fig, \n",
    "                               animate, \n",
    "                               init_func=init,\n",
    "                               frames=len(frames), \n",
    "                               interval=50, \n",
    "                               blit=True)\n",
    "plt.show()"
   ]
  }
 ],
 "metadata": {
  "kernelspec": {
   "display_name": "Python 3",
   "language": "python",
   "name": "python3"
  },
  "language_info": {
   "codemirror_mode": {
    "name": "ipython",
    "version": 3
   },
   "file_extension": ".py",
   "mimetype": "text/x-python",
   "name": "python",
   "nbconvert_exporter": "python",
   "pygments_lexer": "ipython3",
   "version": "3.8.5"
  },
  "name": "4.Animate.ipynb"
 },
 "nbformat": 4,
 "nbformat_minor": 4
}
