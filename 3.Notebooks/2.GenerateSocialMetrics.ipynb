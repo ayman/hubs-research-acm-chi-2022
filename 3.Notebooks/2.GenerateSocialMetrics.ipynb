{
 "cells": [
  {
   "cell_type": "markdown",
   "metadata": {},
   "source": [
    "# Generate Social Metrics\n",
    "\n",
    "Using our sampled files from [Data Resampling](1.DataResampling.ipynb) notebook, \n",
    "we generate proxemic distances from all the participants in Mozilla Hubs in each \n",
    "of the four rooms."
   ]
  },
  {
   "cell_type": "markdown",
   "metadata": {},
   "source": [
    "## Using this Notebook, Code, or Data\n",
    "This notebook and all of the resources included here are released on \n",
    "a [Mozilla Public License 2.0](https://www.mozilla.org/en-US/MPL/2.0/).  \n",
    "The data is released under [CC-BY-NC-SA 4.0](https://creativecommons.org/licenses/by-nc-sa/4.0/). \n",
    "To cite the paper, the bespoke logging client, the dataset, or this \n",
    "notebook please see the [README.md](https://github.com/ayman/hubs-research-2021/blob/main/README.md) \n",
    "or the [DOI in the ACM Digital Library](https://doi.org/10.1145/3411764.3445729)."
   ]
  },
  {
   "cell_type": "markdown",
   "metadata": {},
   "source": [
    "## Requirements"
   ]
  },
  {
   "cell_type": "code",
   "execution_count": 1,
   "metadata": {},
   "outputs": [],
   "source": [
    "import pickle\n",
    "import pandas as pd\n",
    "import numpy as np\n",
    "import scipy\n",
    "import matplotlib as plt\n",
    "from scipy import spatial"
   ]
  },
  {
   "cell_type": "code",
   "execution_count": 2,
   "metadata": {},
   "outputs": [],
   "source": [
    "group_1 = pd.read_csv('outputs/group1_resampled_30.csv')\n",
    "group_2 = pd.read_csv('outputs/group2_resampled_30.csv')\n",
    "group_3 = pd.read_csv('outputs/group3_resampled_30.csv')\n",
    "group_4 = pd.read_csv('outputs/group4_resampled_30.csv')"
   ]
  },
  {
   "cell_type": "markdown",
   "metadata": {},
   "source": [
    "# TODO Text on how small/big groups done"
   ]
  },
  {
   "cell_type": "code",
   "execution_count": 3,
   "metadata": {},
   "outputs": [],
   "source": [
    "def group_slice(df, t1, t2, uuids):\n",
    "    dft = df[(t1 <= df.frame_id) & (df.frame_id < t2)]\n",
    "    dfs = dft[dft.uuid.isin(uuids)]\n",
    "    return dfs\n",
    "\n",
    "# Small Group Discussions\n",
    "group1_1 = group_slice(group_1, '2021-08-10 15:08:51', '2021-08-10 15:15:10', [\"135e32be-269f-4a2a-ad76-d2ce80532fb5\", \"92b6a91e-977b-4538-8312-318de6ad5bbb\", \"e87375fe-5573-4395-8235-c6151f5cc72f\"]) \n",
    "group1_2 = group_slice(group_1, '2021-08-10 15:08:51', '2021-08-10 15:20:00', [\"1734c592-ac64-402f-9e7a-084f041f0d2d\", \"d04bfb9a-ce5e-44b4-b9a6-4025e72fe087\", \"7e934b3e-3b35-4cab-b70e-b68bec2f6409\"])\n",
    "\n",
    "group2_1 = group_slice(group_2, '2021-08-11 11:17:45', '2021-08-11 11:30:00', [\"c2231c4a-9606-41c3-ab4b-dd6ac1c17bdc\", \"8dc86cda-b789-4340-85aa-c22fd19ff729\" , \"e7d9f358-d6ee-47e6-80eb-65dca3e2e848\"])\n",
    "group2_2 = group_slice(group_2, '2021-08-11 11:18:30', '2021-08-11 11:30:00', [\"7c3c1d25-f5e9-4568-8198-137858a491ad\" , \"a05a754f-f283-40aa-8610-37524bfba3f8\", \"7ed8e182-2292-461b-82c0-b631b07ed161\"])\n",
    "\n",
    "group3_1 = group_slice(group_3, '2021-08-12 09:10:11', '2021-08-12 09:29:30', [\"3263ab7c-14a1-43a4-83d8-88e95dda2141\", \"465d3391-7d54-4f0b-aabf-349a74e40832\", \"e977a5f0-55b8-4b91-8621-2fdca1c4ea8d\"])\n",
    "group3_2 = group_slice(group_3, '2021-08-12 09:18:00', '2021-08-12 09:29:30', [\"8a1dcfe7-05b3-4b70-bca3-9f97a245721d\", \"1089c2ae-d956-4fc6-82f2-f5efaff5f17a\", \"972550a1-fdc8-4257-b608-0e1c1c1595c2\"])\n",
    "\n",
    "group4_1 = group_slice(group_4, '2021-08-12 16:09:30', '2021-08-12 16:20:00', [\"9cca61d7-058a-4302-8635-6fa9e3c92c79\", \"adaefcd7-7ea6-42df-b218-0946f68201dc\", \"dd8d4f2a-396d-46f2-b8c4-ddd3ea7a5303\"])\n",
    "group4_2 = group_slice(group_4, '2021-08-12 16:10:47', '2021-08-12 16:20:00', [\"2b877303-fda6-4d18-8c52-a30fe4db479c\", \"c61f6fbe-9b43-4f17-b3f4-080e82a9d4b5\",  \"550e7d0a-69b7-4107-9fd8-9af2d32ae7a8\"])\n",
    "\n",
    "# Large Group Discussions\n",
    "group_1d = group_1[('2021-08-10 15:20:15' >= group_1.frame_id)& (group_1.frame_id < '2021-08-10 15:44:00')]\n",
    "group_2d = group_2[('2021-08-11 11:30:20' >= group_2.frame_id)& (group_2.frame_id < '2021-08-11 11:46:00')]\n",
    "group_3d = group_3[('2021-08-12 09:29:45' >= group_3.frame_id)& (group_3.frame_id < '2021-08-12 09:49:00')]\n",
    "group_4d = group_4[('2021-08-12 16:20:20' >= group_4.frame_id)& (group_4.frame_id < '2021-08-12 16:42:30')]\n"
   ]
  },
  {
   "cell_type": "code",
   "execution_count": 4,
   "metadata": {},
   "outputs": [],
   "source": [
    "def prep_slice(my_slice):\n",
    "    \"\"\"Helper Function that sets up a DF for the metric table calculations\"\"\"\n",
    "    # Setup indices for all the UUIDs in this data slice\n",
    "    uuids = my_slice.uuid.sort_values().unique()\n",
    "    uuids_ix = {uuid: ix for ix, uuid in enumerate(uuids)}\n",
    "\n",
    "    # Setup indices for all the FRAMES in this data slice\n",
    "    frames = my_slice.frame_id.sort_values().unique()\n",
    "    frames_ix = {frame_id: ix for ix, frame_id in enumerate(frames)}\n",
    "\n",
    "    by_frame = my_slice.sort_values(\"frame_id\").groupby('frame_id')\n",
    "\n",
    "    return uuids, uuids_ix, frames, frames_ix, by_frame\n"
   ]
  },
  {
   "cell_type": "code",
   "execution_count": 5,
   "metadata": {},
   "outputs": [],
   "source": [
    "# For each frame in the data slice, create a pairwise matrix of\n",
    "# distances between each user\n",
    "\n",
    "# This is stored in a dictionary where the key is the frame time stamp\n",
    "# as a string in the distance matrix is XYZ position for each UUID\n",
    "\n",
    "# Takes a DF of frames grouped by Frame ID, a list of unique UUIDs in\n",
    "# this df, and a dict matching uuids to indices (int)\n",
    "def distance_mat(by_frame, uuids, uuids_ix):\n",
    "\n",
    "    # create empty dict, create dictionary where each frame_id (key)\n",
    "    # matches a matrix of pairwise distances (value)\n",
    "    frame_dist_mat = {}\n",
    "\n",
    "    for frame, group in by_frame:\n",
    "        # Setup\n",
    "        users_xyz = np.full((len(uuids), 3), np.nan)\n",
    "\n",
    "        for row_index, row in group.iterrows():\n",
    "            users_xyz[uuids_ix[row.uuid]] = [row.position_x,\n",
    "                                             row.position_y,\n",
    "                                             row.position_z]\n",
    "\n",
    "        # Pairwise euclidian distance\n",
    "        user_dist_mat = scipy.spatial.distance.pdist(users_xyz,\n",
    "                                                     metric='euclidean')\n",
    "        user_dist_mat = scipy.spatial.distance.squareform(user_dist_mat,\n",
    "                                                          force='tomatrix',\n",
    "                                                          checks=False)\n",
    "\n",
    "        frame_dist_mat[frame] = user_dist_mat\n",
    "\n",
    "    return frame_dist_mat"
   ]
  },
  {
   "cell_type": "code",
   "execution_count": 6,
   "metadata": {},
   "outputs": [],
   "source": [
    "# For each frame in the data slice, create a pairwise matrix of\n",
    "# angular distances between each user\n",
    "\n",
    "# This angle is: given a user A's position and direction, what is the\n",
    "# relative position of user B in radians\n",
    "\n",
    "# This is stored in a dictions where the key is the frame time stamp\n",
    "# as a string\n",
    "\n",
    "def angular_distance(u, v):\n",
    "    dif_xyz =   v[:3] -  u[:3]\n",
    "    len_dif = np.linalg.norm(dif_xyz)\n",
    "    dif_xyz = dif_xyz/len_dif\n",
    "    # sin(40deg) = .64 (>.64 is out of FOV)\n",
    "    d_angle = 1-np.sum(u[3:6] * dif_xyz)\n",
    "    return d_angle\n",
    "    \n",
    "\n",
    "def angle_distance(u, v):\n",
    "    dif_xyz =   v[:3] -  u[:3]\n",
    "    len_dif = np.linalg.norm(dif_xyz)\n",
    "    dif_xyz = dif_xyz/len_dif\n",
    "    # angle in XZ plane of u->v\n",
    "    angle_person = np.arctan2(dif_xyz[2], dif_xyz[0])\n",
    "    # angle of U in world coordinates\n",
    "    angle_view = np.arctan2(u[5], u[3])\n",
    "    \n",
    "    # sin(40deg) = .64 (>.64 is out of FOV)\n",
    "    #d_angle = 1-np.sum(u[3:6] * dif_xyz)\n",
    "    return angle_person - angle_view\n",
    "    \n",
    "    \n",
    "def angular_mat(by_frame, uuids, uuids_ix):\n",
    "    frame_angle_mat = {}\n",
    "\n",
    "    for frame, group in by_frame:\n",
    "        # Setup\n",
    "        users_direction_xyz = np.full((len(uuids), 6), np.nan)\n",
    "        for row_index, row in group.iterrows():\n",
    "            users_direction_xyz[uuids_ix[row.uuid]] = [row.position_x,\n",
    "                                                       row.position_y,\n",
    "                                                       row.position_z,\n",
    "                                                       row.direction_x,\n",
    "                                                       row.direction_y,\n",
    "                                                       row.direction_z]\n",
    "\n",
    "        user_angle = np.zeros((len(uuids), len(uuids)))\n",
    "        for i in range(len(uuids)):\n",
    "            for j in range(len(uuids)):\n",
    "                user_angle[i,j] = angle_distance(users_direction_xyz[i], users_direction_xyz[j])\n",
    "        frame_angle_mat[frame] = user_angle\n",
    "    \n",
    "    return frame_angle_mat\n"
   ]
  },
  {
   "cell_type": "code",
   "execution_count": 7,
   "metadata": {},
   "outputs": [],
   "source": [
    "def closest_dist(dist_mat, uuids, frames_ix):\n",
    "    \"\"\"Return closest standing person in each frame.\"\"\"\n",
    "    # Closest person\n",
    "    # Nan values are not included\n",
    "    uuid_mins = np.full((len(uuids), len(dist_mat)), np.nan)\n",
    "\n",
    "    for frame in dist_mat:\n",
    "        for uuid in range(len(dist_mat[frame])):\n",
    "            row = dist_mat[frame][uuid]\n",
    "            closest = np.nanmin(row[np.nonzero(row)])\n",
    "\n",
    "            if not np.isnan(closest):\n",
    "                uuid_mins[uuid][frames_ix[frame]] = closest\n",
    "\n",
    "    return uuid_mins"
   ]
  },
  {
   "cell_type": "code",
   "execution_count": 8,
   "metadata": {},
   "outputs": [],
   "source": [
    "# For each frame, calculate the number of people at different social\n",
    "# distances (Hall Proxemics)\n",
    "\n",
    "# Intimate Distance .15 - .46 Meters\n",
    "# Personal Distance (close) .46 - .76 Meters\n",
    "# Personal Distance (far) .76 - 1.22 Meters\n",
    "# Social Distance (close) 1.22 - 2.1 Meters\n",
    "# Social Distance (far) 2.1 - 3.6 Meters\n",
    "# Public Distance (close) 3.6 - 7.6 Meters\n",
    "# Public Distance (far) 7.6 + Meters\n",
    "\n",
    "def distance_counts(min_dist, max_dist, frame_dist, frames_ix, uuids):\n",
    "    \"\"\"Count number of people nearby in a given social distance. \n",
    "    Return as a 2d array distances[uuid_ix][frame_ix]\"\"\"\n",
    "    count_array = np.full((len(uuids), len(frame_dist)), 0.0)\n",
    "    # iterate through every frame (dictionary) in the distance matrix\n",
    "    for frame in frame_dist:\n",
    "        # For each UUID do a thing\n",
    "        for uuid in range(len(frame_dist[frame])):\n",
    "            row = frame_dist[frame][uuid]\n",
    "            count = np.count_nonzero((row >= min_dist) & (row < max_dist))\n",
    "            count_array[uuid][frames_ix[frame]] = count\n",
    "    return count_array"
   ]
  },
  {
   "cell_type": "code",
   "execution_count": 9,
   "metadata": {},
   "outputs": [],
   "source": [
    "def print_zone_counts(uuids, frame_dist_mat, frames_ix):\n",
    "    \"\"\"Helper function for looking at the various intimate, \n",
    "    personal, social, and public distances.\"\"\"\n",
    "    uuid_count_intimate = distance_counts(.01, .46,\n",
    "                                          frame_dist_mat,\n",
    "                                          frames_ix,\n",
    "                                          uuids)\n",
    "    uuid_count_personal = distance_counts(.46,\n",
    "                                          1.22,\n",
    "                                          frame_dist_mat,\n",
    "                                          frames_ix,\n",
    "                                          uuids)\n",
    "    uuid_count_social = distance_counts(1.22,\n",
    "                                        3.6,\n",
    "                                        frame_dist_mat,\n",
    "                                        frames_ix,\n",
    "                                        uuids)\n",
    "    uuid_count_public = distance_counts(3.6,\n",
    "                                        7.6,\n",
    "                                        frame_dist_mat,\n",
    "                                        frames_ix,\n",
    "                                        uuids)\n",
    "    uuid_count_public_far = distance_counts(7.6,\n",
    "                                            100000000,\n",
    "                                            frame_dist_mat,\n",
    "                                            frames_ix,\n",
    "                                            uuids)\n",
    "\n",
    "    for distance in [uuid_count_intimate,\n",
    "                     uuid_count_personal,\n",
    "                     uuid_count_social,\n",
    "                     uuid_count_public,\n",
    "                     uuid_count_public_far]:\n",
    "        print(np.mean(distance), np.median(distance), np.max(distance))"
   ]
  },
  {
   "cell_type": "code",
   "execution_count": 10,
   "metadata": {},
   "outputs": [
    {
     "name": "stderr",
     "output_type": "stream",
     "text": [
      "<ipython-input-6-1040dbc0a995>:22: RuntimeWarning: invalid value encountered in true_divide\n",
      "  dif_xyz = dif_xyz/len_dif\n",
      "<ipython-input-7-e6e828f78cc2>:10: RuntimeWarning: All-NaN slice encountered\n",
      "  closest = np.nanmin(row[np.nonzero(row)])\n"
     ]
    }
   ],
   "source": [
    "#  Calculate some matrices for the social metrics for proxemic analysis.\n",
    "\n",
    "# The distance matrix is defined above in function distance_mat\n",
    "# The angular distance is defined above in the angular mat\n",
    "# The closest distance\n",
    "\n",
    "\n",
    "def social_matrices(slc):\n",
    "    uuids, uuids_ix, frames, frames_ix, by_frame = prep_slice(slc)\n",
    "    matrices = {}\n",
    "    matrices[\"dist_mat\"] = distance_mat(by_frame, uuids, uuids_ix)\n",
    "    matrices[\"angular_mat\"] = angular_mat(by_frame, uuids, uuids_ix)\n",
    "    matrices[\"mins_by_frame\"] = closest_dist(matrices[\"dist_mat\"], \n",
    "                                             uuids, \n",
    "                                             frames_ix)\n",
    "    matrices[\"uuids\"] = uuids\n",
    "    matrices[\"uuids_ix\"] = uuids_ix\n",
    "    matrices[\"slice\"] = slc\n",
    "    return matrices\n",
    "\n",
    "named_matrices = {}\n",
    "for name, slc in [(\"group1_1\", group1_1), \n",
    "                  (\"group1_2\", group1_2),\n",
    "                  (\"group2_1\", group2_1),\n",
    "                  (\"group2_2\", group2_2),\n",
    "                  (\"group3_1\", group3_1),\n",
    "                  (\"group3_2\", group3_2),\n",
    "                  (\"group4_1\", group4_1),\n",
    "                  (\"group4_2\", group4_2),\n",
    "                  (\"group_1d\", group_1d),\n",
    "                  (\"group_2d\", group_2d),\n",
    "                  (\"group_3d\", group_3d),\n",
    "                  (\"group_4d\", group_4d),\n",
    "                 ]:\n",
    "    named_matrices[name] = social_matrices(slc)"
   ]
  },
  {
   "cell_type": "markdown",
   "metadata": {},
   "source": [
    "Pickle all the matrics for these slices for visualizing next."
   ]
  },
  {
   "cell_type": "code",
   "execution_count": 11,
   "metadata": {},
   "outputs": [
    {
     "name": "stdout",
     "output_type": "stream",
     "text": [
      "dict_keys(['group1_1', 'group1_2', 'group2_1', 'group2_2', 'group3_1', 'group3_2', 'group4_1', 'group4_2', 'group_1d', 'group_2d', 'group_3d', 'group_4d'])\n"
     ]
    }
   ],
   "source": [
    "# At 30FPS this takes some time to calculate.\n",
    "\n",
    "print(named_matrices.keys())\n",
    "with open(\"outputs/social_metrics_groups.pkl\", \"wb\") as f:\n",
    "    pickle.dump(named_matrices, f, protocol=-1)"
   ]
  },
  {
   "cell_type": "markdown",
   "metadata": {},
   "source": [
    "Next visit the <a href=\"3.VisualisingSocialMetrics.ipynb\">Visualizing Social Metrics</a> notebook."
   ]
  }
 ],
 "metadata": {
  "kernelspec": {
   "display_name": "Python 3",
   "language": "python",
   "name": "python3"
  },
  "language_info": {
   "codemirror_mode": {
    "name": "ipython",
    "version": 3
   },
   "file_extension": ".py",
   "mimetype": "text/x-python",
   "name": "python",
   "nbconvert_exporter": "python",
   "pygments_lexer": "ipython3",
   "version": "3.8.5"
  },
  "name": "2.GenerateSocialMetrics.ipynb"
 },
 "nbformat": 4,
 "nbformat_minor": 2
}
